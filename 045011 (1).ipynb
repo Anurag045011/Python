{
  "nbformat": 4,
  "nbformat_minor": 0,
  "metadata": {
    "colab": {
      "provenance": []
    },
    "kernelspec": {
      "name": "python3",
      "display_name": "Python 3"
    },
    "language_info": {
      "name": "python"
    }
  },
  "cells": [
    {
      "cell_type": "code",
      "execution_count": null,
      "metadata": {
        "colab": {
          "base_uri": "https://localhost:8080/"
        },
        "id": "DrbEEOGjIDR8",
        "outputId": "409c5de6-baf3-4128-c5a0-24df89501e0f"
      },
      "outputs": [
        {
          "output_type": "stream",
          "name": "stdout",
          "text": [
            "Solution using NumPy:\n",
            "x = 3.0\n",
            "y = -2.0\n",
            "z = 1.0000000000000002\n"
          ]
        }
      ],
      "source": [
        "'''\n",
        "Solve the Equation\n",
        "Eq1 : x + y + z = 2 | Eq2 : 6x - 4y + 5z = 31 | Eq3: 5x + 2y + 2z = 13\n",
        "\n",
        "'''\n",
        "\n",
        "import numpy as np\n",
        "from numpy import linalg as npla\n",
        "\n",
        "# Coefficients of the equations\n",
        "coefficients = np.array([[1, 1, 1], [6, -4, 5], [5, 2, 2]])\n",
        "constants = np.array([2, 31, 13])\n",
        "\n",
        "# Solve the system of equations\n",
        "solution = npla.linalg.solve(coefficients, constants)\n",
        "\n",
        "x, y, z = solution\n",
        "print(\"Solution using NumPy:\")\n",
        "print(\"x =\", x)\n",
        "print(\"y =\", y)\n",
        "print(\"z =\", z)\n"
      ]
    },
    {
      "cell_type": "code",
      "source": [
        "'''\n",
        "Q2\n",
        "'''\n",
        "emp_dict={'Name':['ABC','DEF','GHI','JKL','MNO','PQR','STU'],\n",
        "          'Education':['Graduate','Postgraduate','Postgraduate','Graduate','Graduate','Postgraduate','Graduate'],\n",
        "          'Gender':['Make','Female','Male','Other','Female','Female','Male']\n",
        "\n",
        "}\n",
        "emp_dict"
      ],
      "metadata": {
        "colab": {
          "base_uri": "https://localhost:8080/"
        },
        "id": "9ueLqpreJXKO",
        "outputId": "b19ab473-63c9-4ed7-fd46-ed3072e56b84"
      },
      "execution_count": null,
      "outputs": [
        {
          "output_type": "execute_result",
          "data": {
            "text/plain": [
              "{'Name': ['ABC', 'DEF', 'GHI', 'JKL', 'MNO', 'PQR', 'STU'],\n",
              " 'Education': ['Graduate',\n",
              "  'Postgraduate',\n",
              "  'Postgraduate',\n",
              "  'Graduate',\n",
              "  'Graduate',\n",
              "  'Postgraduate',\n",
              "  'Graduate'],\n",
              " 'Gender': ['Make', 'Female', 'Male', 'Other', 'Female', 'Female', 'Male']}"
            ]
          },
          "metadata": {},
          "execution_count": 3
        }
      ]
    },
    {
      "cell_type": "code",
      "source": [
        "'''\n",
        " Update the Employee Dictionary 'emp_dict' with following Information:\n",
        "'''\n",
        "emp_dict['Age']= 22,27,26,23,24,30,21 #added age as a key and different age as a value\n",
        "emp_dict"
      ],
      "metadata": {
        "colab": {
          "base_uri": "https://localhost:8080/"
        },
        "id": "MW0070eJLo57",
        "outputId": "37e8be9c-2d16-4689-c671-8123c41279d7"
      },
      "execution_count": null,
      "outputs": [
        {
          "output_type": "execute_result",
          "data": {
            "text/plain": [
              "{'Name': ['ABC', 'DEF', 'GHI', 'JKL', 'MNO', 'PQR', 'STU'],\n",
              " 'Education': ['Graduate',\n",
              "  'Postgraduate',\n",
              "  'Postgraduate',\n",
              "  'Graduate',\n",
              "  'Graduate',\n",
              "  'Postgraduate',\n",
              "  'Graduate'],\n",
              " 'Gender': ['Make', 'Female', 'Male', 'Other', 'Female', 'Female', 'Male'],\n",
              " 'Age': (22, 27, 26, 23, 24, 30, 21)}"
            ]
          },
          "metadata": {},
          "execution_count": 5
        }
      ]
    },
    {
      "cell_type": "code",
      "source": [
        "#Ans 3\n",
        "import pandas as pd\n",
        "\n",
        "# 3.1 Create the DataFrame 'emp_df' from the Dictionary 'emp_dict'\n",
        "emp_dict = {\n",
        "    'Name': ['ABC', 'DEF', 'GHI', 'JKL', 'MNO', 'PQR', 'STU'],\n",
        "    'Education': ['Graduate', 'Postgraduate', 'Postgraduate', 'Graduate', 'Graduate', 'Postgraduate', 'Graduate'],\n",
        "    'Gender': ['Male', 'Female', 'Male', 'Other', 'Female', 'Female', 'Male'],\n",
        "    'Age': [22, 27, 26, 23, 24, 30, 21]\n",
        "}\n",
        "\n",
        "emp_df = pd.DataFrame(emp_dict)\n",
        "\n",
        "# 3.2 Update the DataFrame 'emp_df' with Salary_Lakhs and Bonus% information\n",
        "salary_lakhs = [6, 15, 20, 5, 10, 18, 12]\n",
        "bonus_percent = [12.50, 8.75, 6.25, 10.20, 13.60, 11.40, 9.80]\n",
        "\n",
        "emp_df['Salary_Lakhs'] = salary_lakhs\n",
        "emp_df['Bonus%'] = bonus_percent\n",
        "\n",
        "# 3.3 Update the DataFrame 'emp_df' with additional information\n",
        "new_data = {\n",
        "    'Name': ['VWX', 'YZA', 'BCD'],\n",
        "    'Education': ['Postgraduate', 'Graduate', 'Postgraduate'],\n",
        "    'Gender': ['Male', 'Female', 'Other'],\n",
        "    'Age': [35, 28, 32],\n",
        "    'Salary_Lakhs': [14, 7, 8],\n",
        "    'Bonus%': [5.50, 7.75, 14.80]\n",
        "}\n",
        "\n",
        "emp_df = emp_df.append(pd.DataFrame(new_data), ignore_index=True)\n",
        "\n",
        "# 3.4 Create a Column 'Gross_Salary_Lakhs' using the formula\n",
        "emp_df['Gross_Salary_Lakhs'] = emp_df['Salary_Lakhs'] * (1 + emp_df['Bonus%'] / 100)\n",
        "\n",
        "# Print the updated 'emp_df'\n",
        "print(emp_df)\n"
      ],
      "metadata": {
        "colab": {
          "base_uri": "https://localhost:8080/"
        },
        "id": "qg05V9dNPddF",
        "outputId": "9077403d-5183-45df-f631-ffd943035b3f"
      },
      "execution_count": null,
      "outputs": [
        {
          "output_type": "stream",
          "name": "stdout",
          "text": [
            "  Name     Education  Gender  Age  Salary_Lakhs  Bonus%  Gross_Salary_Lakhs\n",
            "0  ABC      Graduate    Male   22             6   12.50              6.7500\n",
            "1  DEF  Postgraduate  Female   27            15    8.75             16.3125\n",
            "2  GHI  Postgraduate    Male   26            20    6.25             21.2500\n",
            "3  JKL      Graduate   Other   23             5   10.20              5.5100\n",
            "4  MNO      Graduate  Female   24            10   13.60             11.3600\n",
            "5  PQR  Postgraduate  Female   30            18   11.40             20.0520\n",
            "6  STU      Graduate    Male   21            12    9.80             13.1760\n",
            "7  VWX  Postgraduate    Male   35            14    5.50             14.7700\n",
            "8  YZA      Graduate  Female   28             7    7.75              7.5425\n",
            "9  BCD  Postgraduate   Other   32             8   14.80              9.1840\n"
          ]
        },
        {
          "output_type": "stream",
          "name": "stderr",
          "text": [
            "<ipython-input-15-dd7844355328>:31: FutureWarning: The frame.append method is deprecated and will be removed from pandas in a future version. Use pandas.concat instead.\n",
            "  emp_df = emp_df.append(pd.DataFrame(new_data), ignore_index=True)\n"
          ]
        }
      ]
    },
    {
      "cell_type": "code",
      "source": [
        "#Q4\n",
        "# Create a Subset 'emp_df_ss' with specified variables\n",
        "emp_df_ss = emp_df[['Name', 'Age', 'Gross_Salary_Lakhs']]\n",
        "\n",
        "# Print the subset DataFrame 'emp_df_ss'\n",
        "print(emp_df_ss)\n"
      ],
      "metadata": {
        "colab": {
          "base_uri": "https://localhost:8080/"
        },
        "id": "R5WzNB0DMbS1",
        "outputId": "6b6a3fa2-4ed7-45e8-dbf6-6d024639bdc5"
      },
      "execution_count": null,
      "outputs": [
        {
          "output_type": "stream",
          "name": "stdout",
          "text": [
            "  Name  Age  Gross_Salary_Lakhs\n",
            "0  ABC   22              6.7500\n",
            "1  DEF   27             16.3125\n",
            "2  GHI   26             21.2500\n",
            "3  JKL   23              5.5100\n",
            "4  MNO   24             11.3600\n",
            "5  PQR   30             20.0520\n",
            "6  STU   21             13.1760\n",
            "7  VWX   35             14.7700\n",
            "8  YZA   28              7.5425\n",
            "9  BCD   32              9.1840\n"
          ]
        }
      ]
    },
    {
      "cell_type": "code",
      "source": [
        "#Q5\n",
        "# 5.1 Create a Copy of 'emp_df' Named as 'emp_df_age_sorted' and Sort by 'Age' (Highest to Lowest)\n",
        "emp_df_age_sorted = emp_df.copy()\n",
        "emp_df_age_sorted = emp_df_age_sorted.sort_values(by='Age', ascending=False)\n",
        "\n",
        "# 5.2 Create a Copy of 'emp_df' Named as 'emp_df_age_salary_sorted' and Sort by 'Age' (Lowest to Highest) and 'Gross_Salary_Lakhs' (Highest to Lowest)\n",
        "emp_df_age_salary_sorted = emp_df.copy()\n",
        "emp_df_age_salary_sorted = emp_df_age_salary_sorted.sort_values(by=['Age', 'Gross_Salary_Lakhs'], ascending=[True, False])\n",
        "\n",
        "# Print the sorted DataFrames\n",
        "print(\"Sorted by Age (Highest to Lowest):\")\n",
        "print(emp_df_age_sorted)\n",
        "\n",
        "print(\"\\nSorted by Age (Lowest to Highest) and Gross_Salary_Lakhs (Highest to Lowest):\")\n",
        "print(emp_df_age_salary_sorted)\n"
      ],
      "metadata": {
        "colab": {
          "base_uri": "https://localhost:8080/"
        },
        "id": "kekXvyeGRGUe",
        "outputId": "394a2709-2e9a-427f-fde2-74fdb0017b5d"
      },
      "execution_count": null,
      "outputs": [
        {
          "output_type": "stream",
          "name": "stdout",
          "text": [
            "Sorted by Age (Highest to Lowest):\n",
            "  Name     Education  Gender  Age  Salary_Lakhs  Bonus%  Gross_Salary_Lakhs\n",
            "7  VWX  Postgraduate    Male   35            14    5.50             14.7700\n",
            "9  BCD  Postgraduate   Other   32             8   14.80              9.1840\n",
            "5  PQR  Postgraduate  Female   30            18   11.40             20.0520\n",
            "8  YZA      Graduate  Female   28             7    7.75              7.5425\n",
            "1  DEF  Postgraduate  Female   27            15    8.75             16.3125\n",
            "2  GHI  Postgraduate    Male   26            20    6.25             21.2500\n",
            "4  MNO      Graduate  Female   24            10   13.60             11.3600\n",
            "3  JKL      Graduate   Other   23             5   10.20              5.5100\n",
            "0  ABC      Graduate    Male   22             6   12.50              6.7500\n",
            "6  STU      Graduate    Male   21            12    9.80             13.1760\n",
            "\n",
            "Sorted by Age (Lowest to Highest) and Gross_Salary_Lakhs (Highest to Lowest):\n",
            "  Name     Education  Gender  Age  Salary_Lakhs  Bonus%  Gross_Salary_Lakhs\n",
            "6  STU      Graduate    Male   21            12    9.80             13.1760\n",
            "0  ABC      Graduate    Male   22             6   12.50              6.7500\n",
            "3  JKL      Graduate   Other   23             5   10.20              5.5100\n",
            "4  MNO      Graduate  Female   24            10   13.60             11.3600\n",
            "2  GHI  Postgraduate    Male   26            20    6.25             21.2500\n",
            "1  DEF  Postgraduate  Female   27            15    8.75             16.3125\n",
            "8  YZA      Graduate  Female   28             7    7.75              7.5425\n",
            "5  PQR  Postgraduate  Female   30            18   11.40             20.0520\n",
            "9  BCD  Postgraduate   Other   32             8   14.80              9.1840\n",
            "7  VWX  Postgraduate    Male   35            14    5.50             14.7700\n"
          ]
        }
      ]
    },
    {
      "cell_type": "code",
      "source": [
        "#Q6\n",
        "# 6.1 Create a DataFrame 'emp_df_filtered' by filtering 'emp_df' based on 'Age' >= 25 and 'Gender' == 'Female'\n",
        "emp_df_filtered = emp_df[(emp_df['Age'] >= 25) & (emp_df['Gender'] == 'Female')]\n",
        "\n",
        "# 6.2 Create subsets 'emp_df_grad' and 'emp_df_postgrad' based on 'Education' column\n",
        "emp_df_grad = emp_df[emp_df['Education'] == 'Graduate']\n",
        "emp_df_postgrad = emp_df[emp_df['Education'] == 'Postgraduate']\n",
        "\n",
        "# Print the filtered DataFrame and subsets\n",
        "print(\"Filtered DataFrame (Age >= 25 and Gender = Female):\")\n",
        "print(emp_df_filtered)\n",
        "\n",
        "print(\"\\nSubset 'emp_df_grad' (Education == Graduate):\")\n",
        "print(emp_df_grad)\n",
        "\n",
        "print(\"\\nSubset 'emp_df_postgrad' (Education == Postgraduate):\")\n",
        "print(emp_df_postgrad)\n"
      ],
      "metadata": {
        "colab": {
          "base_uri": "https://localhost:8080/"
        },
        "id": "xAc_ViNwRGVQ",
        "outputId": "6ccb0833-e48d-45d3-dcec-b32b406656af"
      },
      "execution_count": null,
      "outputs": [
        {
          "output_type": "stream",
          "name": "stdout",
          "text": [
            "Filtered DataFrame (Age >= 25 and Gender = Female):\n",
            "  Name     Education  Gender  Age  Salary_Lakhs  Bonus%  Gross_Salary_Lakhs\n",
            "1  DEF  Postgraduate  Female   27            15    8.75             16.3125\n",
            "5  PQR  Postgraduate  Female   30            18   11.40             20.0520\n",
            "8  YZA      Graduate  Female   28             7    7.75              7.5425\n",
            "\n",
            "Subset 'emp_df_grad' (Education == Graduate):\n",
            "  Name Education  Gender  Age  Salary_Lakhs  Bonus%  Gross_Salary_Lakhs\n",
            "0  ABC  Graduate    Male   22             6   12.50              6.7500\n",
            "3  JKL  Graduate   Other   23             5   10.20              5.5100\n",
            "4  MNO  Graduate  Female   24            10   13.60             11.3600\n",
            "6  STU  Graduate    Male   21            12    9.80             13.1760\n",
            "8  YZA  Graduate  Female   28             7    7.75              7.5425\n",
            "\n",
            "Subset 'emp_df_postgrad' (Education == Postgraduate):\n",
            "  Name     Education  Gender  Age  Salary_Lakhs  Bonus%  Gross_Salary_Lakhs\n",
            "1  DEF  Postgraduate  Female   27            15    8.75             16.3125\n",
            "2  GHI  Postgraduate    Male   26            20    6.25             21.2500\n",
            "5  PQR  Postgraduate  Female   30            18   11.40             20.0520\n",
            "7  VWX  Postgraduate    Male   35            14    5.50             14.7700\n",
            "9  BCD  Postgraduate   Other   32             8   14.80              9.1840\n"
          ]
        }
      ]
    },
    {
      "cell_type": "code",
      "source": [
        "#Q7\n",
        "# 7.1 Inner Merge 'emp_df_grad' and 'emp_df_postgrad' on 'Gender' with selected variables\n",
        "emp_df_merged = pd.merge(emp_df_grad[['Name', 'Gender', 'Age']],\n",
        "                         emp_df_postgrad[['Name', 'Gender', 'Gross_Salary_Lakhs']],\n",
        "                         on='Gender',\n",
        "                         how='inner')\n",
        "\n",
        "# Print the merged DataFrame 'emp_df_merged'\n",
        "print(emp_df_merged)\n"
      ],
      "metadata": {
        "colab": {
          "base_uri": "https://localhost:8080/"
        },
        "id": "oFRGBOwrRTRc",
        "outputId": "33504f0b-fead-48df-a93a-ade073ac7b98"
      },
      "execution_count": null,
      "outputs": [
        {
          "output_type": "stream",
          "name": "stdout",
          "text": [
            "  Name_x  Gender  Age Name_y  Gross_Salary_Lakhs\n",
            "0    ABC    Male   22    GHI             21.2500\n",
            "1    ABC    Male   22    VWX             14.7700\n",
            "2    STU    Male   21    GHI             21.2500\n",
            "3    STU    Male   21    VWX             14.7700\n",
            "4    JKL   Other   23    BCD              9.1840\n",
            "5    MNO  Female   24    DEF             16.3125\n",
            "6    MNO  Female   24    PQR             20.0520\n",
            "7    YZA  Female   28    DEF             16.3125\n",
            "8    YZA  Female   28    PQR             20.0520\n"
          ]
        }
      ]
    },
    {
      "cell_type": "code",
      "source": [
        "#Q8\n",
        "# 8.1 Group 'emp_df' by 'Gender' and 'Education' and count employees\n",
        "emp_df_gen_edu = emp_df.groupby(['Gender', 'Education']).size().reset_index(name='Count')\n",
        "\n",
        "# 8.2 Group 'emp_df' by 'Gender' and calculate the average of 'Age' and 'Gross_Salary_Lakhs'\n",
        "emp_df_gen_age_sal = emp_df.groupby('Gender').agg({'Age': 'mean', 'Gross_Salary_Lakhs': 'mean'}).reset_index()\n",
        "\n",
        "# Print the grouped tables\n",
        "print(\"Table 'emp_df_gen_edu' (Count of Employees by Gender and Education):\")\n",
        "print(emp_df_gen_edu)\n",
        "\n",
        "print(\"\\nTable 'emp_df_gen_age_sal' (Average Age and Gross_Salary_Lakhs by Gender):\")\n",
        "print(emp_df_gen_age_sal)\n"
      ],
      "metadata": {
        "colab": {
          "base_uri": "https://localhost:8080/"
        },
        "id": "VoCKQHIhRYmU",
        "outputId": "03118460-60ee-4d0b-d1e3-55c5a38ff025"
      },
      "execution_count": null,
      "outputs": [
        {
          "output_type": "stream",
          "name": "stdout",
          "text": [
            "Table 'emp_df_gen_edu' (Count of Employees by Gender and Education):\n",
            "   Gender     Education  Count\n",
            "0  Female      Graduate      2\n",
            "1  Female  Postgraduate      2\n",
            "2    Male      Graduate      2\n",
            "3    Male  Postgraduate      2\n",
            "4   Other      Graduate      1\n",
            "5   Other  Postgraduate      1\n",
            "\n",
            "Table 'emp_df_gen_age_sal' (Average Age and Gross_Salary_Lakhs by Gender):\n",
            "   Gender    Age  Gross_Salary_Lakhs\n",
            "0  Female  27.25            13.81675\n",
            "1    Male  26.00            13.98650\n",
            "2   Other  27.50             7.34700\n"
          ]
        }
      ]
    },
    {
      "cell_type": "code",
      "source": [
        "#Q9\n",
        "import pandas as pd\n",
        "\n",
        "# Create the cross-sectional dataframe 'df_cross_section'\n",
        "data = {\n",
        "    'Company': ['ZYX', 'WVU', 'TSR'],\n",
        "    '2023': [123, 456, 789],\n",
        "    '2024': [321, 654, 987]\n",
        "}\n",
        "\n",
        "df_cross_section = pd.DataFrame(data)\n",
        "\n",
        "# Melt the cross-sectional dataframe into a panel dataframe 'df_panel'\n",
        "df_panel = pd.melt(df_cross_section, id_vars=['Company'], var_name='Year', value_name='Profit')\n",
        "\n",
        "# Sort the panel dataframe by 'Company' and 'Year' if needed\n",
        "df_panel = df_panel.sort_values(by=['Company', 'Year'])\n",
        "\n",
        "# Reset the index\n",
        "df_panel = df_panel.reset_index(drop=True)\n",
        "\n",
        "# Print the panel dataframe 'df_panel'\n",
        "print(df_panel)\n"
      ],
      "metadata": {
        "id": "c88AQxyGRho7"
      },
      "execution_count": null,
      "outputs": []
    }
  ]
}