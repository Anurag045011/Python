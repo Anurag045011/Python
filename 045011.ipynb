{
  "nbformat": 4,
  "nbformat_minor": 0,
  "metadata": {
    "colab": {
      "provenance": []
    },
    "kernelspec": {
      "name": "python3",
      "display_name": "Python 3"
    },
    "language_info": {
      "name": "python"
    }
  },
  "cells": [
    {
      "cell_type": "code",
      "execution_count": 4,
      "metadata": {
        "id": "0GqqGpOaKIMo",
        "colab": {
          "base_uri": "https://localhost:8080/"
        },
        "outputId": "86c7a847-7169-4354-96e0-1f662d6df624"
      },
      "outputs": [
        {
          "output_type": "stream",
          "name": "stdout",
          "text": [
            "Enter the number of Rows : 5\n",
            "         *  \n",
            "       *   *  \n",
            "     *   *   *  \n",
            "   *   *   *   *  \n",
            " *   *   *   *   *  \n",
            "   *   *   *   *  \n",
            "     *   *   *  \n",
            "       *   *  \n",
            "         *  \n",
            "          \n"
          ]
        }
      ],
      "source": [
        "\"\"\"\n",
        "Ques 9-Write a python code to generate the following ‘diamond’ pattern.\n",
        "\n",
        "         *\n",
        "       *   *\n",
        "     *   *   *\n",
        "   *   *   *   *\n",
        " *   *   *   *   *\n",
        "   *   *   *   *\n",
        "     *   *   *\n",
        "       *   *\n",
        "         *\n",
        "\n",
        "\n",
        "\"\"\"\n",
        "#function to print diamon star pattern\n",
        "def pattern(rows):\n",
        "    #intialize variables k1 and k2\n",
        "    k1=1\n",
        "    k2=rows-1\n",
        "\n",
        "    #1St outer loop for each row in the upper half\n",
        "    for i in range(0,rows):\n",
        "        #Inner loop to print elements in a particular row\n",
        "        for j in range(0,rows):\n",
        "            #if j>=k2 print *\n",
        "            if j>=k2:\n",
        "                print(' * ',end=' ')\n",
        "            #if j<k2 print blank space\n",
        "            else:\n",
        "                print(' ',end=' ')\n",
        "        #decrement k2\n",
        "        k2-=1\n",
        "        #print new line character for each row\n",
        "        print()\n",
        "\n",
        "    #2nd Outer loop for each row in the lower half\n",
        "    for i in range(0,rows):\n",
        "         #Inner loop to print elements in a particular row\n",
        "        for j in range(0,rows):\n",
        "            #if j>=k1 print *\n",
        "            if j>=k1:\n",
        "                print(' * ',end=' ')\n",
        "            #if j<k1 print blank space\n",
        "            else:\n",
        "                print(' ',end=' ')\n",
        "        #increment k1\n",
        "        k1+=1\n",
        "        #print new line character for each row\n",
        "        print()\n",
        "\n",
        "#Taking input\n",
        "n=int(input('Enter the number of Rows : '))\n",
        "#Calling Function\n",
        "pattern(n)"
      ]
    },
    {
      "cell_type": "code",
      "source": [
        "\"\"\"\n",
        "Q1-Write a python code which will count the number of unique letters and their frequency.\n",
        "Test the code with the word ‘Anaconda’. (Note: Remove Case Sensitivity)\n",
        "Input: Anaconda\n",
        "Output 1: Number of Unique Letters = 5.\n",
        "Output 2: {a: 3, c: 1, d: 1, n: 2, o: 1}\n",
        "\n",
        "\n",
        "\"\"\"\n",
        "def letters(word):\n",
        "    # Convert the input word to lowercase\n",
        "    word = word.lower()\n",
        "\n",
        "    # Initialize an empty dictionary to store letter frequencies\n",
        "    letter_frequency = {}\n",
        "\n",
        "    # Iterate through the characters in the word\n",
        "    for char in word:\n",
        "        # Check if the character is a letter\n",
        "        if char.isalpha():\n",
        "            # If the letter is not in the dictionary, add it with a count of 1\n",
        "            if char not in letter_frequency:\n",
        "                letter_frequency[char] = 1\n",
        "            else:\n",
        "                # If the letter is already in the dictionary, increment its count\n",
        "                letter_frequency[char] += 1\n",
        "\n",
        "    # Calculate the total number of unique letters\n",
        "    num_unique_letters = len(letter_frequency)\n",
        "\n",
        "    return num_unique_letters, letter_frequency\n",
        "\n",
        "# Test the function with the input 'Anaconda'\n",
        "word = 'Anaconda'\n",
        "num_unique, frequency = letters(word)\n",
        "\n",
        "print(f\"Output 1: Number of Unique Letters = {num_unique}\")\n",
        "print(f\"Output 2: {frequency}\")"
      ],
      "metadata": {
        "colab": {
          "base_uri": "https://localhost:8080/"
        },
        "id": "onp4jPuMLKWD",
        "outputId": "c68a0e8c-71d8-4935-ebdb-fe8d44028f28"
      },
      "execution_count": 3,
      "outputs": [
        {
          "output_type": "stream",
          "name": "stdout",
          "text": [
            "Output 1: Number of Unique Letters = 5\n",
            "Output 2: {'a': 3, 'n': 2, 'c': 1, 'o': 1, 'd': 1}\n"
          ]
        }
      ]
    },
    {
      "cell_type": "code",
      "source": [
        "\"\"\"\n",
        "Task 2\n",
        "A student’s evaluation is done based on 4 components: Class_Test (10%), Mid_Term (20%), Project (30%) & End_Term (40%).\n",
        "Write a python code to generate a random score between 10 & 90 (use python library: random) and get the evaluation bifurcation (Round off to Nearest Integer).\n",
        "\n",
        "\"\"\"\n",
        "import random #importing Random Module\n",
        "\n",
        "def calculate_score(class_test, mid_term, project, end_term): #defining function to calculate the score\n",
        "    class_test_score = class_test * 0.1\n",
        "    mid_term_score = mid_term * 0.2\n",
        "    project_score = project * 0.3\n",
        "    end_term_score = end_term * 0.4\n",
        "\n",
        "    evaluation_score = class_test_score + mid_term_score + project_score + end_term_score\n",
        "    return round(evaluation_score)\n",
        "\n",
        "# Generate random scores between 10 and 90 for each component\n",
        "class_test_score = random.randint(10, 90)\n",
        "mid_term_score = random.randint(10, 90)\n",
        "project_score = random.randint(10, 90)\n",
        "end_term_score = random.randint(10, 90)\n",
        "\n",
        "evaluation_score = calculate_score(class_test_score, mid_term_score, project_score, end_term_score) # calling function\n",
        "\n",
        "#printing the Scores\n",
        "print(\"Class Test Score:\", class_test_score)\n",
        "print(\"Mid Term Score:\", mid_term_score)\n",
        "print(\"Project Score:\", project_score)\n",
        "print(\"End Term Score:\", end_term_score)\n",
        "print(\"Evaluation Score:\", evaluation_score)"
      ],
      "metadata": {
        "colab": {
          "base_uri": "https://localhost:8080/"
        },
        "id": "deqwXJvaUGYa",
        "outputId": "ac731555-8ed3-441f-9572-2112b60f9c14"
      },
      "execution_count": 5,
      "outputs": [
        {
          "output_type": "stream",
          "name": "stdout",
          "text": [
            "Class Test Score: 38\n",
            "Mid Term Score: 59\n",
            "Project Score: 82\n",
            "End Term Score: 38\n",
            "Evaluation Score: 55\n"
          ]
        }
      ]
    },
    {
      "cell_type": "code",
      "source": [
        "\"\"\"\n",
        "Task 3\n",
        "Write a python code to display the letters occurring commonly in 2 words.\n",
        "Test the code with the words ‘Python’ & ‘Anaconda’. (Note: Remove Case Sensitivity)\n",
        "Input 1: Python\n",
        "Input 2: Anaconda\n",
        "\n",
        "\"\"\"\n",
        "def same_letters(word1, word2): #Defining the fuction and converting it into lower case so that we won't get uppercaseletter\n",
        "    word1 = word1.lower()\n",
        "    word2 = word2.lower()\n",
        "\n",
        "    common_letters = set(word1) & set(word2)\n",
        "    return common_letters\n",
        "\n",
        "word1 = 'Python'\n",
        "word2 = 'Anaconda'\n",
        "\n",
        "common_letters = same_letters(word1, word2) #calling function\n",
        "\n",
        "print(f\"Common letters between '{word1}' and '{word2}':\")\n",
        "for letter in common_letters:\n",
        "    print(letter)\n",
        ""
      ],
      "metadata": {
        "colab": {
          "base_uri": "https://localhost:8080/"
        },
        "id": "Ma-kID46VD23",
        "outputId": "8cc12940-e1f3-46ef-ac5c-4ea0da8f26c9"
      },
      "execution_count": 10,
      "outputs": [
        {
          "output_type": "stream",
          "name": "stdout",
          "text": [
            "Common letters between 'Python' and 'Anaconda':\n",
            "o\n",
            "n\n"
          ]
        }
      ]
    },
    {
      "cell_type": "code",
      "source": [
        "'''\n",
        "Task 4\n",
        "Write a python code to generate a random score between 0 & 100 (use python library: random). Print the following as output:\n",
        "The score\n",
        "‘Grade F’ : If the score is less than 40\n",
        "‘Grade C’ : If the score is between 40 & 59\n",
        "‘Grade B’ : If the score is between 60 & 84\n",
        "‘Grade A’ : If the score is between 85 & 100\n",
        "\n",
        "'''\n",
        "import random #importing Random Module\n",
        "\n",
        "# Generate a random score between 0 and 100\n",
        "score = random.randint(0, 100)\n",
        "\n",
        "# Assign grades based on the score\n",
        "if score < 40:\n",
        "    grade = 'Grade F'\n",
        "elif 40 <= score <= 59:\n",
        "    grade = 'Grade C'\n",
        "elif 60 <= score <= 84:\n",
        "    grade = 'Grade B'\n",
        "else:\n",
        "    grade = 'Grade A'\n",
        "\n",
        "# Print the score and corresponding grade\n",
        "print(\"The score:\", score)\n",
        "print(grade)"
      ],
      "metadata": {
        "colab": {
          "base_uri": "https://localhost:8080/"
        },
        "id": "JRABg9kBXYGN",
        "outputId": "b797a037-8681-4926-e217-c4e5105a7000"
      },
      "execution_count": 11,
      "outputs": [
        {
          "output_type": "stream",
          "name": "stdout",
          "text": [
            "The score: 78\n",
            "Grade B\n"
          ]
        }
      ]
    },
    {
      "cell_type": "code",
      "source": [
        "'''\n",
        "Task 5\n",
        "Write a python code to generate a random number between 1 & 99 (use python library: random). Print the following as output:\n",
        "The random number [say, 9]\n",
        "List of even numbers up to the random number [2, 4, 6, 8]\n",
        "List of odd numbers up to the random number [1, 3, 5, 7, 9]\n",
        "List of prime numbers up to the random number [2, 3, 5, 7]\n",
        "\n",
        "'''\n",
        "import random  #importing Random Module\n",
        "\n",
        "# Generate a random number between 1 and 99\n",
        "random_number = random.randint(1, 99)\n",
        "\n",
        "# Print the random number\n",
        "print(\"The random number:\", random_number)\n",
        "print()\n",
        "\n",
        "# List of even numbers up to the random number\n",
        "even_numbers = [num for num in range(2, random_number + 1) if num % 2 == 0]\n",
        "print(\"List of even numbers up to the random number:\", even_numbers)\n",
        "print()\n",
        "\n",
        "# List of odd numbers up to the random number\n",
        "odd_numbers = [num for num in range(1, random_number + 1) if num % 2 != 0]\n",
        "print(\"List of odd numbers up to the random number:\", odd_numbers)\n",
        "print()\n",
        "\n",
        "# Function to check if a number is prime\n",
        "def is_prime(num):\n",
        "    if num <= 1:\n",
        "        return False\n",
        "    for i in range(2, int(num ** 0.5) + 1):\n",
        "        if num % i == 0:\n",
        "            return False\n",
        "    return True\n",
        "\n",
        "# List of prime numbers up to the random number\n",
        "prime_numbers = [num for num in range(2, random_number + 1) if is_prime(num)]\n",
        "print(\"List of prime numbers up to the random number:\", prime_numbers)"
      ],
      "metadata": {
        "colab": {
          "base_uri": "https://localhost:8080/"
        },
        "id": "J8FBiw3iXsKJ",
        "outputId": "70f010db-7bce-41ed-9239-42bc8fb9677d"
      },
      "execution_count": 12,
      "outputs": [
        {
          "output_type": "stream",
          "name": "stdout",
          "text": [
            "The random number: 29\n",
            "\n",
            "List of even numbers up to the random number: [2, 4, 6, 8, 10, 12, 14, 16, 18, 20, 22, 24, 26, 28]\n",
            "\n",
            "List of odd numbers up to the random number: [1, 3, 5, 7, 9, 11, 13, 15, 17, 19, 21, 23, 25, 27, 29]\n",
            "\n",
            "List of prime numbers up to the random number: [2, 3, 5, 7, 11, 13, 17, 19, 23, 29]\n"
          ]
        }
      ]
    },
    {
      "cell_type": "code",
      "source": [
        "'''\n",
        "Task 6\n",
        "Write a python code to generate a 4-digit random number between 1000 & 9999 (use python library: random). Print each digit with its place value.\n",
        "'''\n",
        "import random  #importing Random Module\n",
        "\n",
        "# Generated a random 4-digit number between 1000 and 9999\n",
        "random_number = random.randint(1000, 9999)\n",
        "\n",
        "# Print the random number\n",
        "print(\"Random 4-digit number:\", random_number)\n",
        "\n",
        "# Calculate and print each digit with its place value\n",
        "thousands_digit = random_number // 1000\n",
        "hundreds_digit = (random_number // 100) % 10\n",
        "tens_digit = (random_number // 10) % 10\n",
        "units_digit = random_number % 10\n",
        "\n",
        "print(\"Thousands digit:\", thousands_digit, \"with place value:\", thousands_digit * 1000)\n",
        "print(\"Hundreds digit:\", hundreds_digit, \"with place value:\", hundreds_digit * 100)\n",
        "print(\"Tens digit:\", tens_digit, \"with place value:\", tens_digit * 10)\n",
        "print(\"Units digit:\", units_digit, \"with place value:\", units_digit)"
      ],
      "metadata": {
        "colab": {
          "base_uri": "https://localhost:8080/"
        },
        "id": "gmmMJ9NwYW7C",
        "outputId": "3e51fcd5-5318-4e48-eb59-ddc24cfbbbb0"
      },
      "execution_count": 13,
      "outputs": [
        {
          "output_type": "stream",
          "name": "stdout",
          "text": [
            "Random 4-digit number: 6482\n",
            "Thousands digit: 6 with place value: 6000\n",
            "Hundreds digit: 4 with place value: 400\n",
            "Tens digit: 8 with place value: 80\n",
            "Units digit: 2 with place value: 2\n"
          ]
        }
      ]
    },
    {
      "cell_type": "code",
      "source": [
        "'''\n",
        "Task 7\n",
        "Write a python code to generate 5 random numbers between -9 & +9 (use python library: random). Print the list of 5 random numbers and their sum\n",
        "\n",
        "'''\n",
        "\n",
        "import random #importing Random Module\n",
        "\n",
        "random_numbers = [random.randint(-9, 9) for _ in range(5)] #genrated 5 random numbers\n",
        "\n",
        "sum_of_numbers = sum(random_numbers) #sum of 5 random numbers\n",
        "\n",
        "#printing results\n",
        "print(\"List of 5 random numbers:\", random_numbers)\n",
        "print(\"Sum of the random numbers:\", sum_of_numbers)"
      ],
      "metadata": {
        "colab": {
          "base_uri": "https://localhost:8080/"
        },
        "id": "DR2mSGTxY3br",
        "outputId": "f38a1283-cfde-4232-d593-26987b19cf3a"
      },
      "execution_count": 14,
      "outputs": [
        {
          "output_type": "stream",
          "name": "stdout",
          "text": [
            "List of 5 random numbers: [2, -6, -1, 2, -7]\n",
            "Sum of the random numbers: -10\n"
          ]
        }
      ]
    },
    {
      "cell_type": "code",
      "source": [],
      "metadata": {
        "id": "N7ugqmtJZnaD"
      },
      "execution_count": null,
      "outputs": []
    },
    {
      "cell_type": "code",
      "source": [
        "'''\n",
        "Task 8\n",
        "Write a python code to calculate the number of Years, Months & Days, with respect to Today, given a Date.\n",
        "\n",
        "'''\n",
        "from datetime import datetime #importing datetime\n",
        "\n",
        "def calculate_age(date): #creating the function to calculate the age\n",
        "    today = datetime.now().date()\n",
        "    age = today - date\n",
        "\n",
        "    years = age.days // 365\n",
        "    remaining_days = age.days % 365\n",
        "\n",
        "    months = remaining_days // 30\n",
        "    days = remaining_days % 30\n",
        "\n",
        "    return years, months, days\n",
        "\n",
        "# Input date in YYYY-MM-DD format\n",
        "input_date_str = input(\"Enter a date (YYYY-MM-DD): \")\n",
        "input_date = datetime.strptime(input_date_str, '%Y-%m-%d').date()\n",
        "#Output\n",
        "years, months, days = calculate_age(input_date)\n",
        "print(f\"Years: {years}, Months: {months}, Days: {days}\")"
      ],
      "metadata": {
        "colab": {
          "base_uri": "https://localhost:8080/"
        },
        "id": "hQxwyKRNZna6",
        "outputId": "37cc8616-9559-407f-ce2c-c86935cfa79e"
      },
      "execution_count": 15,
      "outputs": [
        {
          "output_type": "stream",
          "name": "stdout",
          "text": [
            "Enter a date (YYYY-MM-DD): 2000-06-11\n",
            "Years: 23, Months: 2, Days: 16\n"
          ]
        }
      ]
    },
    {
      "cell_type": "code",
      "source": [
        "'''\n",
        "Task 10\n",
        "Write a python code to create a list of 10 random letters (say List A). Create a copy of List A (say List B). Shuffle both List A & B.\n",
        "Treat each element of List A (say a) as Source and the corresponding element of List B (say b) as Destination. It is assumed that a from list A is connected to b from List B.\n",
        "Map the network of all connected elements such that an inquiry of any element will show the connected paths to & from the element.\n",
        "'''\n",
        "\n",
        "import random\n",
        "\n",
        "def generate_random_letters_list(length):  #defining the function which will genrate the random letter list\n",
        "    letters = 'ABCDEFGHIJKLMNOPQRSTUVWXYZ'\n",
        "    random_letters = [random.choice(letters) for _ in range(length)]\n",
        "    return random_letters\n",
        "\n",
        "def shuffle_and_build_network(list_a, list_b): #defining the function which will shuffel the list as well as build the network and storing it in list\n",
        "    combined_lists = list(zip(list_a, list_b))\n",
        "    random.shuffle(combined_lists)\n",
        "    shuffled_list_a, shuffled_list_b = zip(*combined_lists)\n",
        "\n",
        "    network = {}\n",
        "    for source, destination in zip(list_a, shuffled_list_b):\n",
        "        if source not in network:\n",
        "            network[source] = []\n",
        "        network[source].append(destination)\n",
        "\n",
        "    return network\n",
        "\n",
        "def print_connected_paths(network, element, visited=None): #created the function with 3 parameters inorder to print the connected  paths\n",
        "    if visited is None:\n",
        "        visited = set()\n",
        "    if element in network and element not in visited:\n",
        "        visited.add(element)\n",
        "        connected_elements = network[element]\n",
        "        print(f\"Connected paths from {element}: {', '.join(connected_elements)}\")\n",
        "\n",
        "        for connected_element in connected_elements:\n",
        "            print_connected_paths(network, connected_element, visited)\n",
        "\n",
        "list_a = generate_random_letters_list(10) #created the list\n",
        "list_b = list(list_a)  # Create a copy of list_a\n",
        "random.shuffle(list_a)\n",
        "random.shuffle(list_b)\n",
        "\n",
        "network = shuffle_and_build_network(list_a, list_b)\n",
        "\n",
        "# Choose an element from list_a to start exploring the network\n",
        "start_element = list_a[0]\n",
        "print_connected_paths(network, start_element)"
      ],
      "metadata": {
        "colab": {
          "base_uri": "https://localhost:8080/"
        },
        "id": "-sj0rAmgaQWF",
        "outputId": "8889281a-7de7-4571-ba34-3b37ca8ab0ed"
      },
      "execution_count": 16,
      "outputs": [
        {
          "output_type": "stream",
          "name": "stdout",
          "text": [
            "Connected paths from W: C, S\n",
            "Connected paths from C: W\n",
            "Connected paths from S: A\n",
            "Connected paths from A: B\n",
            "Connected paths from B: W\n"
          ]
        }
      ]
    }
  ]
}